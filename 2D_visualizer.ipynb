{
 "cells": [
  {
   "cell_type": "markdown",
   "metadata": {},
   "source": [
    "# 2D Visualizer\n",
    "\n",
    "This notebook will show you how to view individual 2D slices in a 3D MRI volume. If the MRI volume has a separate file with annotations (e.g. tumor region), this notebook also shows two ways to visualize those annotations."
   ]
  },
  {
   "cell_type": "code",
   "execution_count": 16,
   "metadata": {},
   "outputs": [],
   "source": [
    "import SimpleITK as sitk\n",
    "import numpy as np\n",
    "import matplotlib.pyplot as plt "
   ]
  },
  {
   "cell_type": "markdown",
   "metadata": {},
   "source": [
    "Using the SimpleITK library, we can read the image from the mha file and then convert that into a 3D numpy array."
   ]
  },
  {
   "cell_type": "code",
   "execution_count": 17,
   "metadata": {},
   "outputs": [],
   "source": [
    "def mha_to_array(path):\n",
    "    \"\"\"\n",
    "    Converts an mha file into a numpy array.\n",
    "\n",
    "    @param path: path to the mha file\n",
    "    @return: numpy array\n",
    "    \"\"\"\n",
    "\n",
    "    image = sitk.ReadImage(path, imageIO=\"MetaImageIO\")\n",
    "    array = sitk.GetArrayFromImage(image)\n",
    "\n",
    "    return array"
   ]
  },
  {
   "cell_type": "markdown",
   "metadata": {},
   "source": [
    "You should replace the raw and label paths with your own paths to the mha files you want to display. The raw path is for the original MRI while the label path is for a file with specific regions annotated (tumor, lumen, etc.) \n",
    "<br><br>\n",
    "The label_volume array we just created is full of numbers representing different labels. 0 indicates nothing and 1 is for tumor. For this example,we only want to model the tumor region, so any other numbers should be changed to 0."
   ]
  },
  {
   "cell_type": "code",
   "execution_count": 18,
   "metadata": {},
   "outputs": [],
   "source": [
    "# Replace these with your own paths\n",
    "raw_path = \"path/to/raw/file.mha\"\n",
    "label_path = \"path/to/label/file.mha\"\n",
    "\n",
    "mri_volume = mha_to_array(raw_path)\n",
    "label_volume = mha_to_array(label_path)\n",
    "\n",
    "# Get only the tumor region (represented by the number 1)\n",
    "tumor =  np.where(label_volume != 1, 0, 1)"
   ]
  },
  {
   "cell_type": "markdown",
   "metadata": {},
   "source": [
    "The SimpleITK method GetArrayFromImage, used in the mha_to_array method above, returns a numpy array in the form DHW (depth, height, width). We can view the MRI volume's dimensions with \"mri_volume.shape\". The first number, the depth, tells you how many slices the volume has."
   ]
  },
  {
   "cell_type": "code",
   "execution_count": null,
   "metadata": {},
   "outputs": [],
   "source": [
    "print(mri_volume.shape)"
   ]
  },
  {
   "cell_type": "markdown",
   "metadata": {},
   "source": [
    "We will use the matplotlib library to show a specific slice from the original MRI and the tumor label side by side. You should change the variable slice_num to whichever slice you want to view."
   ]
  },
  {
   "cell_type": "code",
   "execution_count": 23,
   "metadata": {},
   "outputs": [],
   "source": [
    "# Display the original MRI and the tumor label\n",
    "fig, ax = plt.subplots(1,2)\n",
    "fig.tight_layout()\n",
    "\n",
    "slice_num = 80\n",
    "\n",
    "raw = mri_volume[slice_num]\n",
    "mask = tumor[slice_num]\n",
    "\n",
    "ax[0].imshow(raw, cmap=\"gray\")\n",
    "ax[1].imshow(mask, cmap=\"gray\")"
   ]
  },
  {
   "cell_type": "markdown",
   "metadata": {},
   "source": [
    "We can also overlay the tumor label on top of the original MRI."
   ]
  },
  {
   "cell_type": "code",
   "execution_count": 21,
   "metadata": {},
   "outputs": [],
   "source": [
    "# Overlay the tumor label onto the original MRI\n",
    "plt.imshow(raw, cmap=\"gray\")\n",
    "plt.contour(mask, colors=\"red\")"
   ]
  }
 ],
 "metadata": {
  "kernelspec": {
   "display_name": "Python 3.10.2 64-bit",
   "language": "python",
   "name": "python3"
  },
  "language_info": {
   "codemirror_mode": {
    "name": "ipython",
    "version": 3
   },
   "file_extension": ".py",
   "mimetype": "text/x-python",
   "name": "python",
   "nbconvert_exporter": "python",
   "pygments_lexer": "ipython3",
   "version": "3.10.2"
  },
  "orig_nbformat": 4,
  "vscode": {
   "interpreter": {
    "hash": "aee8b7b246df8f9039afb4144a1f6fd8d2ca17a180786b69acc140d282b71a49"
   }
  }
 },
 "nbformat": 4,
 "nbformat_minor": 2
}
