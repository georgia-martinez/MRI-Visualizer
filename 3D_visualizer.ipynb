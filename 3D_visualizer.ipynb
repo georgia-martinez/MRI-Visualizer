{
 "cells": [
  {
   "cell_type": "markdown",
   "metadata": {},
   "source": [
    "# 3D Visualizer\n",
    "\n",
    "This notebook will show you how to create a 3D model of a specific region (e.g. tumor) in an MRI volume."
   ]
  },
  {
   "cell_type": "code",
   "execution_count": 36,
   "metadata": {},
   "outputs": [],
   "source": [
    "import SimpleITK as sitk\n",
    "import matplotlib.pyplot as plt \n",
    "import plotly.graph_objects as go\n",
    "import numpy as np\n",
    "from skimage import measure\n",
    "from mpl_toolkits.mplot3d.art3d import Poly3DCollection"
   ]
  },
  {
   "cell_type": "markdown",
   "metadata": {},
   "source": [
    "Using the SimpleITK library, we can read the image from the mha file and then convert that into a 3D numpy array."
   ]
  },
  {
   "cell_type": "code",
   "execution_count": 37,
   "metadata": {},
   "outputs": [],
   "source": [
    "path = \"path/to/file.mha\" # insert the path to your data here\n",
    "\n",
    "# Create a numpy array of the tumor\n",
    "tumor = sitk.ReadImage(path, imageIO=\"MetaImageIO\")\n",
    "tumor = sitk.GetArrayFromImage(tumor)"
   ]
  },
  {
   "cell_type": "markdown",
   "metadata": {},
   "source": [
    "The array we just created is full of numbers representing different labels. 0 indicates nothing and 1 is for tumor. For this example, we only want to model the tumor region, so any other numbers should be changed to 0. "
   ]
  },
  {
   "cell_type": "code",
   "execution_count": 38,
   "metadata": {},
   "outputs": [],
   "source": [
    "# Get only the tumor region (represented by the number 1)\n",
    "tumor =  np.where(tumor != 1, 0, 1)"
   ]
  },
  {
   "cell_type": "markdown",
   "metadata": {},
   "source": [
    "The SimpleITK method GetArrayFromImage returns a numpy array in the form DHW (depth, height, width). But the marching cubes method we will be using later requires the array be in the form WHD. So we will fix that here. Swapping the axis rotated the array, so the next line simply undoes the rotation."
   ]
  },
  {
   "cell_type": "code",
   "execution_count": 39,
   "metadata": {},
   "outputs": [],
   "source": [
    "tumor = np.swapaxes(tumor, 0, 2)\n",
    "tumor = np.rot90(tumor, 3)"
   ]
  },
  {
   "cell_type": "markdown",
   "metadata": {},
   "source": [
    "We will use the marching cubes algorithm from the skimage library to get the vertices and faces from our tumor array. From there, we can take these outputs and generate a 3D model using plotly."
   ]
  },
  {
   "cell_type": "code",
   "execution_count": 51,
   "metadata": {},
   "outputs": [],
   "source": [
    "# Use the marching cubes algorithm to generate a 3D mesh\n",
    "verts, faces, normals, values = measure.marching_cubes(tumor, 0)\n",
    "\n",
    "x_coords = verts[:, 0]\n",
    "y_coords = verts[:, 1]\n",
    "z_coords = verts[:, 2]\n",
    "\n",
    "x_face_index = faces[:, 0]\n",
    "y_face_index = faces[:, 1]\n",
    "z_face_index = faces[:, 2]\n",
    "\n",
    "# Create the plotly mesh\n",
    "plotly_mesh = go.Mesh3d(\n",
    "    x=x_coords,\n",
    "    y=y_coords,\n",
    "    z=z_coords,\n",
    "    i=x_face_index,\n",
    "    j=y_face_index,\n",
    "    k=z_face_index,\n",
    "    color=\"red\" # Change the color to whatever you like!\n",
    "    )\n",
    "\n",
    "# Show the model\n",
    "fig = go.Figure(data=plotly_mesh)\n",
    "fig.update_layout(title=\"3D Tumor Model\", width=500, height=500)\n",
    "fig.show()"
   ]
  },
  {
   "cell_type": "markdown",
   "metadata": {},
   "source": [
    "You can use the code below to save the generated plotly model to an HTML file which will keeo the interactive component. With the HTML file, you can open it in your browser and embed it into a website."
   ]
  },
  {
   "cell_type": "code",
   "execution_count": 49,
   "metadata": {},
   "outputs": [],
   "source": [
    "# Save plotly figure to html file\n",
    "fig.write_html(\"saved_plots/example_plot.html\")"
   ]
  }
 ],
 "metadata": {
  "kernelspec": {
   "display_name": "Python 3.10.2 64-bit",
   "language": "python",
   "name": "python3"
  },
  "language_info": {
   "codemirror_mode": {
    "name": "ipython",
    "version": 3
   },
   "file_extension": ".py",
   "mimetype": "text/x-python",
   "name": "python",
   "nbconvert_exporter": "python",
   "pygments_lexer": "ipython3",
   "version": "3.10.2"
  },
  "orig_nbformat": 4,
  "vscode": {
   "interpreter": {
    "hash": "aee8b7b246df8f9039afb4144a1f6fd8d2ca17a180786b69acc140d282b71a49"
   }
  }
 },
 "nbformat": 4,
 "nbformat_minor": 2
}
